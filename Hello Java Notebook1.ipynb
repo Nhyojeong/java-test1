{
 "cells": [
  {
   "cell_type": "markdown",
   "id": "ff0f53e0-b90e-44e8-abfc-2ee034f105b2",
   "metadata": {
    "editable": true,
    "slideshow": {
     "slide_type": ""
    },
    "tags": []
   },
   "source": [
    "### Hello Java Notebook\n",
    "\n",
    "- 이름 : 노효정\n",
    "- 학번 : 20232393\n",
    "- Github Profile : https://github.com/Nhyojeong"
   ]
  },
  {
   "cell_type": "code",
   "execution_count": 2,
   "id": "accd0c4c-036e-46e3-a1e1-8a4e65eb584c",
   "metadata": {},
   "outputs": [
    {
     "name": "stdout",
     "output_type": "stream",
     "text": [
      "Nhyojeong\n"
     ]
    }
   ],
   "source": [
    "%%bash\n",
    "echo $GITHUB_USER"
   ]
  },
  {
   "cell_type": "code",
   "execution_count": 4,
   "id": "3fe3a42d-733a-48c8-96d0-054b02298613",
   "metadata": {},
   "outputs": [
    {
     "name": "stdout",
     "output_type": "stream",
     "text": [
      "openjdk 22.0.2 2024-07-16\n",
      "OpenJDK Runtime Environment Temurin-22.0.2+9 (build 22.0.2+9)\n",
      "OpenJDK 64-Bit Server VM Temurin-22.0.2+9 (build 22.0.2+9, mixed mode, sharing)\n"
     ]
    }
   ],
   "source": [
    "%%bash\n",
    "java --version"
   ]
  },
  {
   "cell_type": "code",
   "execution_count": 5,
   "id": "04e26320-ff59-4721-8d85-c4a22a54f920",
   "metadata": {},
   "outputs": [
    {
     "data": {
      "text/plain": [
       "22.0.2+9"
      ]
     },
     "execution_count": 5,
     "metadata": {},
     "output_type": "execute_result"
    }
   ],
   "source": [
    "Runtime.version()"
   ]
  }
 ],
 "metadata": {
  "kernelspec": {
   "display_name": "Java (rjk 2.1.0)",
   "language": "java",
   "name": "rapaio-jupyter-kernel"
  },
  "language_info": {
   "codemirror_mode": "java",
   "file_extension": ".jshell",
   "mimetype": "text/x-java-source",
   "name": "java",
   "nbconvert_exporter": "script",
   "pygments_lexer": "java",
   "version": "22.0.2+9"
  }
 },
 "nbformat": 4,
 "nbformat_minor": 5
}
